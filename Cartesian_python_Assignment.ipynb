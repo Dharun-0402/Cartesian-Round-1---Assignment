{
  "nbformat": 4,
  "nbformat_minor": 0,
  "metadata": {
    "colab": {
      "name": "Cartesian-python-Assignment.ipynb",
      "provenance": [],
      "collapsed_sections": []
    },
    "kernelspec": {
      "name": "python3",
      "display_name": "Python 3"
    },
    "language_info": {
      "name": "python"
    }
  },
  "cells": [
    {
      "cell_type": "code",
      "source": [
        "sentence=input().split()\n",
        "sentence=sentence[::-1]\n",
        "sentence[0] = sentence[0].capitalize()\n",
        "sentence[-1] = sentence[-1].lower()\n",
        "frequencOfWords={}\n",
        "distinctWords=[]\n",
        "for i in sentence:\n",
        "  if i not in distinctWords:\n",
        "    distinctWords.append(i)\n",
        "    frequencOfWords[i]=1\n",
        "  else:\n",
        "    frequencOfWords[i]+=1\n",
        "\n",
        "temp=sorted(frequencOfWords.items(),key=lambda x:x[1])\n",
        "frequencOfWords=dict(temp)\n",
        "keys=list(frequencOfWords.keys())\n",
        "print(*sentence)\n",
        "print(keys[-1],\":\", frequencOfWords[keys[-1]],\"times\")\n",
        "print(keys[-2],\":\", frequencOfWords[keys[-2]],\"times\")"
      ],
      "metadata": {
        "colab": {
          "base_uri": "https://localhost:8080/"
        },
        "id": "b0qnRz2WvcnU",
        "outputId": "7bb5e39d-7e6c-48c8-91c7-8f9b06d6bf38"
      },
      "execution_count": 1,
      "outputs": [
        {
          "output_type": "stream",
          "name": "stdout",
          "text": [
            "This declaration represents a political commitment among declaration partners to advance a positive vision for the Internet in this era of a united europe\n",
            "Europe united a of era this in Internet the for vision positive a advance to partners declaration among commitment political a represents declaration this\n",
            "a : 3 times\n",
            "declaration : 2 times\n"
          ]
        }
      ]
    }
  ]
}